{
 "cells": [
  {
   "cell_type": "code",
   "execution_count": 17,
   "metadata": {
    "scrolled": false
   },
   "outputs": [
    {
     "name": "stdout",
     "output_type": "stream",
     "text": [
      "gdal_translate.exe -of GTiff -b 1 F:\\田德宇5st\\2020——三室自研\\估产\\data\\temp\\min\\f9c0e7cc-ea38-4290-85ab-b4fd93de3bb0.nc F:\\田德宇5st\\2020——三室自研\\估产\\data\\temp\\min\\f9c0e7cc-ea38-4290-85ab-b4fd93de3bb0.tiff\n"
     ]
    }
   ],
   "source": [
    "\"\"\"\n",
    "提取nc数据集中每个波段为一个tiff数据\n",
    "\"\"\"\n",
    "import os\n",
    "\n",
    "lenBands = 264 #波段个数，可以从gdalinfo中获取\n",
    "for nband in range(1,lenBands):\n",
    "#     cmd = \"gdal_translate.exe -of GTiff -b {0} F:\\田德宇5st\\\\2020——三室自研\\估产\\data\\\\temp\\min\\\\f9c0e7cc-ea38-4290-85ab-b4fd93de3bb0.nc F:\\田德宇5st\\\\2020——三室自研\\估产\\data\\\\temp\\min\\\\f9c0e7cc-ea38-4290-85ab-b4fd93de3bb0.tiff\".format(nband)\n",
    "    cmd = \"gdal_translate.exe -of GTiff -b {0} .\\f9c0e7cc-ea38-4290-85ab-b4fd93de3bb0.nc .\\min_{0}.tiff\".format(nband)\n",
    "    print(cmd)\n",
    "    os.system(cmd)\n"
   ]
  },
  {
   "cell_type": "code",
   "execution_count": null,
   "metadata": {},
   "outputs": [],
   "source": []
  }
 ],
 "metadata": {
  "kernelspec": {
   "display_name": "Python 3",
   "language": "python",
   "name": "python3"
  },
  "language_info": {
   "codemirror_mode": {
    "name": "ipython",
    "version": 3
   },
   "file_extension": ".py",
   "mimetype": "text/x-python",
   "name": "python",
   "nbconvert_exporter": "python",
   "pygments_lexer": "ipython3",
   "version": "3.7.8"
  }
 },
 "nbformat": 4,
 "nbformat_minor": 4
}
